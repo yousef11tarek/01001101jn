{
  "metadata": {
    "kernelspec": {
      "display_name": "Python 3",
      "name": "python3"
    },
    "language_info": {
      "name": "python",
      "version": "3.7.12",
      "mimetype": "text/x-python",
      "codemirror_mode": {
        "name": "ipython",
        "version": 3
      },
      "pygments_lexer": "ipython3",
      "nbconvert_exporter": "python",
      "file_extension": ".py"
    },
    "kaggle": {
      "accelerator": "nvidiaTeslaT4",
      "dataSources": [
        {
          "sourceId": 3324348,
          "sourceType": "datasetVersion",
          "datasetId": 576013
        }
      ],
      "dockerImageVersionId": 30357,
      "isInternetEnabled": false,
      "language": "python",
      "sourceType": "notebook",
      "isGpuEnabled": true
    },
    "colab": {
      "provenance": [],
      "gpuType": "T4",
      "include_colab_link": true
    },
    "accelerator": "GPU"
  },
  "nbformat_minor": 0,
  "nbformat": 4,
  "cells": [
    {
      "cell_type": "markdown",
      "metadata": {
        "id": "view-in-github",
        "colab_type": "text"
      },
      "source": [
        "<a href=\"https://colab.research.google.com/github/yousef11tarek/01001101jn/blob/main/Copy_of_quiz2.ipynb\" target=\"_parent\"><img src=\"https://colab.research.google.com/assets/colab-badge.svg\" alt=\"Open In Colab\"/></a>"
      ]
    },
    {
      "source": [
        "\n",
        "# IMPORTANT: RUN THIS CELL IN ORDER TO IMPORT YOUR KAGGLE DATA SOURCES\n",
        "# TO THE CORRECT LOCATION (/kaggle/input) IN YOUR NOTEBOOK,\n",
        "# THEN FEEL FREE TO DELETE THIS CELL.\n",
        "# NOTE: THIS NOTEBOOK ENVIRONMENT DIFFERS FROM KAGGLE'S PYTHON\n",
        "# ENVIRONMENT SO THERE MAY BE MISSING LIBRARIES USED BY YOUR\n",
        "# NOTEBOOK.\n",
        "\n",
        "import os\n",
        "import sys\n",
        "from tempfile import NamedTemporaryFile\n",
        "from urllib.request import urlopen\n",
        "from urllib.parse import unquote, urlparse\n",
        "from urllib.error import HTTPError\n",
        "from zipfile import ZipFile\n",
        "import tarfile\n",
        "import shutil\n",
        "\n",
        "CHUNK_SIZE = 40960\n",
        "DATA_SOURCE_MAPPING = 'covid19-radiography-database:https%3A%2F%2Fstorage.googleapis.com%2Fkaggle-data-sets%2F576013%2F3324348%2Fbundle%2Farchive.zip%3FX-Goog-Algorithm%3DGOOG4-RSA-SHA256%26X-Goog-Credential%3Dgcp-kaggle-com%2540kaggle-161607.iam.gserviceaccount.com%252F20240303%252Fauto%252Fstorage%252Fgoog4_request%26X-Goog-Date%3D20240303T053637Z%26X-Goog-Expires%3D259200%26X-Goog-SignedHeaders%3Dhost%26X-Goog-Signature%3D711fed2eb88e991ef08b1d9a7f88cc8702fbb67ee03f92511ffc4dfb87892b539fe1a7770ec4d0e61435cf23ef1e64594b845b463673f7c8b4b3343f2831424bf1bb7805ad25c008a33644ed5c8da20f4ec94fc8cd4971d296ba1b1addecb9c74d285ab932a02059b0aa176e83b9713d33a42e058628a6256a9952cfa8f1073ef61277c937411714ca5674c73602744fdae1d3dba94048cca099c18b1473973f5a08299bc526a74c6cd89c0e8a6640bea312a19e280c631034cc16d170f4bb156ae8a9a49ff7f40e55376a4a24ca78a096fb6bd366a131166df325d663bf5d25114e79b4a8fb44a4b43ddf42b7d478abc908d1bdda693431b9cdd987f25dd32f'\n",
        "\n",
        "KAGGLE_INPUT_PATH='/kaggle/input'\n",
        "KAGGLE_WORKING_PATH='/kaggle/working'\n",
        "KAGGLE_SYMLINK='kaggle'\n",
        "\n",
        "!umount /kaggle/input/ 2> /dev/null\n",
        "shutil.rmtree('/kaggle/input', ignore_errors=True)\n",
        "os.makedirs(KAGGLE_INPUT_PATH, 0o777, exist_ok=True)\n",
        "os.makedirs(KAGGLE_WORKING_PATH, 0o777, exist_ok=True)\n",
        "\n",
        "try:\n",
        "  os.symlink(KAGGLE_INPUT_PATH, os.path.join(\"..\", 'input'), target_is_directory=True)\n",
        "except FileExistsError:\n",
        "  pass\n",
        "try:\n",
        "  os.symlink(KAGGLE_WORKING_PATH, os.path.join(\"..\", 'working'), target_is_directory=True)\n",
        "except FileExistsError:\n",
        "  pass\n",
        "\n",
        "for data_source_mapping in DATA_SOURCE_MAPPING.split(','):\n",
        "    directory, download_url_encoded = data_source_mapping.split(':')\n",
        "    download_url = unquote(download_url_encoded)\n",
        "    filename = urlparse(download_url).path\n",
        "    destination_path = os.path.join(KAGGLE_INPUT_PATH, directory)\n",
        "    try:\n",
        "        with urlopen(download_url) as fileres, NamedTemporaryFile() as tfile:\n",
        "            total_length = fileres.headers['content-length']\n",
        "            print(f'Downloading {directory}, {total_length} bytes compressed')\n",
        "            dl = 0\n",
        "            data = fileres.read(CHUNK_SIZE)\n",
        "            while len(data) > 0:\n",
        "                dl += len(data)\n",
        "                tfile.write(data)\n",
        "                done = int(50 * dl / int(total_length))\n",
        "                sys.stdout.write(f\"\\r[{'=' * done}{' ' * (50-done)}] {dl} bytes downloaded\")\n",
        "                sys.stdout.flush()\n",
        "                data = fileres.read(CHUNK_SIZE)\n",
        "            if filename.endswith('.zip'):\n",
        "              with ZipFile(tfile) as zfile:\n",
        "                zfile.extractall(destination_path)\n",
        "            else:\n",
        "              with tarfile.open(tfile.name) as tarfile:\n",
        "                tarfile.extractall(destination_path)\n",
        "            print(f'\\nDownloaded and uncompressed: {directory}')\n",
        "    except HTTPError as e:\n",
        "        print(f'Failed to load (likely expired) {download_url} to path {destination_path}')\n",
        "        continue\n",
        "    except OSError as e:\n",
        "        print(f'Failed to load {download_url} to path {destination_path}')\n",
        "        continue\n",
        "\n",
        "print('Data source import complete.')\n"
      ],
      "metadata": {
        "id": "5DXxUoVjOEG6",
        "colab": {
          "base_uri": "https://localhost:8080/"
        },
        "outputId": "8d31b214-86d5-4663-a237-a35b04be2e55"
      },
      "cell_type": "code",
      "outputs": [
        {
          "output_type": "stream",
          "name": "stdout",
          "text": [
            "Downloading covid19-radiography-database, 816029038 bytes compressed\n",
            "[==================================================] 816029038 bytes downloaded\n",
            "Downloaded and uncompressed: covid19-radiography-database\n",
            "Data source import complete.\n"
          ]
        }
      ],
      "execution_count": 1
    },
    {
      "cell_type": "markdown",
      "source": [
        "## Library Import"
      ],
      "metadata": {
        "id": "rftJgn0MOEG9"
      }
    },
    {
      "cell_type": "code",
      "source": [
        "import os\n",
        "import pandas as pd\n",
        "import numpy as np\n",
        "from PIL import Image, ImageOps\n",
        "import plotly.express as px\n",
        "import matplotlib.pyplot as plt\n",
        "import seaborn as sns\n",
        "import cv2\n",
        "from tqdm import tqdm\n",
        "from sklearn.model_selection import train_test_split\n",
        "from sklearn.metrics import accuracy_score, precision_score, recall_score, f1_score\n",
        "import time\n",
        "import tensorflow as tf\n",
        "\n",
        "\n",
        "import keras\n",
        "from keras import layers\n",
        "from keras.models import Sequential\n",
        "from keras.layers import Dense, Activation, Dropout\n",
        "from sklearn.metrics import classification_report\n",
        "from tensorflow.keras.callbacks import EarlyStopping\n",
        "from keras.preprocessing.image import ImageDataGenerator"
      ],
      "metadata": {
        "execution": {
          "iopub.status.busy": "2024-03-02T12:44:35.085813Z",
          "iopub.execute_input": "2024-03-02T12:44:35.086709Z",
          "iopub.status.idle": "2024-03-02T12:44:44.551377Z",
          "shell.execute_reply.started": "2024-03-02T12:44:35.086592Z",
          "shell.execute_reply": "2024-03-02T12:44:44.549979Z"
        },
        "trusted": true,
        "id": "MwBANIsKOEG_"
      },
      "execution_count": 2,
      "outputs": []
    },
    {
      "cell_type": "markdown",
      "source": [
        "## Data preprocessing"
      ],
      "metadata": {
        "id": "V30RUUfDOEG_"
      }
    },
    {
      "cell_type": "code",
      "source": [
        "# label tagging to the images\n",
        "\n",
        "levels = ['Normal', 'COVID', 'Lung_Opacity', 'Viral Pneumonia']\n",
        "path = \"../input/covid19-radiography-database/COVID-19_Radiography_Dataset\"\n",
        "data_dir = os.path.join(path)\n",
        "\n",
        "data = []\n",
        "for id, level in enumerate(levels):\n",
        "    for file in os.listdir(os.path.join(data_dir, level + '/images')):\n",
        "        data.append(['{}/images/{}'.format(level, file), level])\n",
        "\n",
        "data = pd.DataFrame(data, columns = ['image_file', 'result'])\n",
        "\n",
        "data['path'] = path + '/' + data['image_file']\n",
        "\n",
        "data.head()"
      ],
      "metadata": {
        "_uuid": "8f2839f25d086af736a60e9eeb907d3b93b6e0e5",
        "_cell_guid": "b1076dfc-b9ad-4769-8c92-a6c4dae69d19",
        "execution": {
          "iopub.status.busy": "2024-03-02T12:44:53.514699Z",
          "iopub.execute_input": "2024-03-02T12:44:53.515572Z",
          "iopub.status.idle": "2024-03-02T12:44:54.34802Z",
          "shell.execute_reply.started": "2024-03-02T12:44:53.515505Z",
          "shell.execute_reply": "2024-03-02T12:44:54.346586Z"
        },
        "trusted": true,
        "id": "_dDc7e2YOEHA",
        "colab": {
          "base_uri": "https://localhost:8080/",
          "height": 206
        },
        "outputId": "451bb58d-2f27-4c21-9200-0fbf6c7e3d91"
      },
      "execution_count": 3,
      "outputs": [
        {
          "output_type": "execute_result",
          "data": {
            "text/plain": [
              "                      image_file  result  \\\n",
              "0  Normal/images/Normal-7219.png  Normal   \n",
              "1  Normal/images/Normal-2070.png  Normal   \n",
              "2  Normal/images/Normal-6516.png  Normal   \n",
              "3  Normal/images/Normal-2291.png  Normal   \n",
              "4  Normal/images/Normal-7510.png  Normal   \n",
              "\n",
              "                                                path  \n",
              "0  ../input/covid19-radiography-database/COVID-19...  \n",
              "1  ../input/covid19-radiography-database/COVID-19...  \n",
              "2  ../input/covid19-radiography-database/COVID-19...  \n",
              "3  ../input/covid19-radiography-database/COVID-19...  \n",
              "4  ../input/covid19-radiography-database/COVID-19...  "
            ],
            "text/html": [
              "\n",
              "  <div id=\"df-deab955e-acb9-40b5-9ecc-4eded2ffbb2b\" class=\"colab-df-container\">\n",
              "    <div>\n",
              "<style scoped>\n",
              "    .dataframe tbody tr th:only-of-type {\n",
              "        vertical-align: middle;\n",
              "    }\n",
              "\n",
              "    .dataframe tbody tr th {\n",
              "        vertical-align: top;\n",
              "    }\n",
              "\n",
              "    .dataframe thead th {\n",
              "        text-align: right;\n",
              "    }\n",
              "</style>\n",
              "<table border=\"1\" class=\"dataframe\">\n",
              "  <thead>\n",
              "    <tr style=\"text-align: right;\">\n",
              "      <th></th>\n",
              "      <th>image_file</th>\n",
              "      <th>result</th>\n",
              "      <th>path</th>\n",
              "    </tr>\n",
              "  </thead>\n",
              "  <tbody>\n",
              "    <tr>\n",
              "      <th>0</th>\n",
              "      <td>Normal/images/Normal-7219.png</td>\n",
              "      <td>Normal</td>\n",
              "      <td>../input/covid19-radiography-database/COVID-19...</td>\n",
              "    </tr>\n",
              "    <tr>\n",
              "      <th>1</th>\n",
              "      <td>Normal/images/Normal-2070.png</td>\n",
              "      <td>Normal</td>\n",
              "      <td>../input/covid19-radiography-database/COVID-19...</td>\n",
              "    </tr>\n",
              "    <tr>\n",
              "      <th>2</th>\n",
              "      <td>Normal/images/Normal-6516.png</td>\n",
              "      <td>Normal</td>\n",
              "      <td>../input/covid19-radiography-database/COVID-19...</td>\n",
              "    </tr>\n",
              "    <tr>\n",
              "      <th>3</th>\n",
              "      <td>Normal/images/Normal-2291.png</td>\n",
              "      <td>Normal</td>\n",
              "      <td>../input/covid19-radiography-database/COVID-19...</td>\n",
              "    </tr>\n",
              "    <tr>\n",
              "      <th>4</th>\n",
              "      <td>Normal/images/Normal-7510.png</td>\n",
              "      <td>Normal</td>\n",
              "      <td>../input/covid19-radiography-database/COVID-19...</td>\n",
              "    </tr>\n",
              "  </tbody>\n",
              "</table>\n",
              "</div>\n",
              "    <div class=\"colab-df-buttons\">\n",
              "\n",
              "  <div class=\"colab-df-container\">\n",
              "    <button class=\"colab-df-convert\" onclick=\"convertToInteractive('df-deab955e-acb9-40b5-9ecc-4eded2ffbb2b')\"\n",
              "            title=\"Convert this dataframe to an interactive table.\"\n",
              "            style=\"display:none;\">\n",
              "\n",
              "  <svg xmlns=\"http://www.w3.org/2000/svg\" height=\"24px\" viewBox=\"0 -960 960 960\">\n",
              "    <path d=\"M120-120v-720h720v720H120Zm60-500h600v-160H180v160Zm220 220h160v-160H400v160Zm0 220h160v-160H400v160ZM180-400h160v-160H180v160Zm440 0h160v-160H620v160ZM180-180h160v-160H180v160Zm440 0h160v-160H620v160Z\"/>\n",
              "  </svg>\n",
              "    </button>\n",
              "\n",
              "  <style>\n",
              "    .colab-df-container {\n",
              "      display:flex;\n",
              "      gap: 12px;\n",
              "    }\n",
              "\n",
              "    .colab-df-convert {\n",
              "      background-color: #E8F0FE;\n",
              "      border: none;\n",
              "      border-radius: 50%;\n",
              "      cursor: pointer;\n",
              "      display: none;\n",
              "      fill: #1967D2;\n",
              "      height: 32px;\n",
              "      padding: 0 0 0 0;\n",
              "      width: 32px;\n",
              "    }\n",
              "\n",
              "    .colab-df-convert:hover {\n",
              "      background-color: #E2EBFA;\n",
              "      box-shadow: 0px 1px 2px rgba(60, 64, 67, 0.3), 0px 1px 3px 1px rgba(60, 64, 67, 0.15);\n",
              "      fill: #174EA6;\n",
              "    }\n",
              "\n",
              "    .colab-df-buttons div {\n",
              "      margin-bottom: 4px;\n",
              "    }\n",
              "\n",
              "    [theme=dark] .colab-df-convert {\n",
              "      background-color: #3B4455;\n",
              "      fill: #D2E3FC;\n",
              "    }\n",
              "\n",
              "    [theme=dark] .colab-df-convert:hover {\n",
              "      background-color: #434B5C;\n",
              "      box-shadow: 0px 1px 3px 1px rgba(0, 0, 0, 0.15);\n",
              "      filter: drop-shadow(0px 1px 2px rgba(0, 0, 0, 0.3));\n",
              "      fill: #FFFFFF;\n",
              "    }\n",
              "  </style>\n",
              "\n",
              "    <script>\n",
              "      const buttonEl =\n",
              "        document.querySelector('#df-deab955e-acb9-40b5-9ecc-4eded2ffbb2b button.colab-df-convert');\n",
              "      buttonEl.style.display =\n",
              "        google.colab.kernel.accessAllowed ? 'block' : 'none';\n",
              "\n",
              "      async function convertToInteractive(key) {\n",
              "        const element = document.querySelector('#df-deab955e-acb9-40b5-9ecc-4eded2ffbb2b');\n",
              "        const dataTable =\n",
              "          await google.colab.kernel.invokeFunction('convertToInteractive',\n",
              "                                                    [key], {});\n",
              "        if (!dataTable) return;\n",
              "\n",
              "        const docLinkHtml = 'Like what you see? Visit the ' +\n",
              "          '<a target=\"_blank\" href=https://colab.research.google.com/notebooks/data_table.ipynb>data table notebook</a>'\n",
              "          + ' to learn more about interactive tables.';\n",
              "        element.innerHTML = '';\n",
              "        dataTable['output_type'] = 'display_data';\n",
              "        await google.colab.output.renderOutput(dataTable, element);\n",
              "        const docLink = document.createElement('div');\n",
              "        docLink.innerHTML = docLinkHtml;\n",
              "        element.appendChild(docLink);\n",
              "      }\n",
              "    </script>\n",
              "  </div>\n",
              "\n",
              "\n",
              "<div id=\"df-8f5c4b29-51a5-42c6-a533-fd07f704654c\">\n",
              "  <button class=\"colab-df-quickchart\" onclick=\"quickchart('df-8f5c4b29-51a5-42c6-a533-fd07f704654c')\"\n",
              "            title=\"Suggest charts\"\n",
              "            style=\"display:none;\">\n",
              "\n",
              "<svg xmlns=\"http://www.w3.org/2000/svg\" height=\"24px\"viewBox=\"0 0 24 24\"\n",
              "     width=\"24px\">\n",
              "    <g>\n",
              "        <path d=\"M19 3H5c-1.1 0-2 .9-2 2v14c0 1.1.9 2 2 2h14c1.1 0 2-.9 2-2V5c0-1.1-.9-2-2-2zM9 17H7v-7h2v7zm4 0h-2V7h2v10zm4 0h-2v-4h2v4z\"/>\n",
              "    </g>\n",
              "</svg>\n",
              "  </button>\n",
              "\n",
              "<style>\n",
              "  .colab-df-quickchart {\n",
              "      --bg-color: #E8F0FE;\n",
              "      --fill-color: #1967D2;\n",
              "      --hover-bg-color: #E2EBFA;\n",
              "      --hover-fill-color: #174EA6;\n",
              "      --disabled-fill-color: #AAA;\n",
              "      --disabled-bg-color: #DDD;\n",
              "  }\n",
              "\n",
              "  [theme=dark] .colab-df-quickchart {\n",
              "      --bg-color: #3B4455;\n",
              "      --fill-color: #D2E3FC;\n",
              "      --hover-bg-color: #434B5C;\n",
              "      --hover-fill-color: #FFFFFF;\n",
              "      --disabled-bg-color: #3B4455;\n",
              "      --disabled-fill-color: #666;\n",
              "  }\n",
              "\n",
              "  .colab-df-quickchart {\n",
              "    background-color: var(--bg-color);\n",
              "    border: none;\n",
              "    border-radius: 50%;\n",
              "    cursor: pointer;\n",
              "    display: none;\n",
              "    fill: var(--fill-color);\n",
              "    height: 32px;\n",
              "    padding: 0;\n",
              "    width: 32px;\n",
              "  }\n",
              "\n",
              "  .colab-df-quickchart:hover {\n",
              "    background-color: var(--hover-bg-color);\n",
              "    box-shadow: 0 1px 2px rgba(60, 64, 67, 0.3), 0 1px 3px 1px rgba(60, 64, 67, 0.15);\n",
              "    fill: var(--button-hover-fill-color);\n",
              "  }\n",
              "\n",
              "  .colab-df-quickchart-complete:disabled,\n",
              "  .colab-df-quickchart-complete:disabled:hover {\n",
              "    background-color: var(--disabled-bg-color);\n",
              "    fill: var(--disabled-fill-color);\n",
              "    box-shadow: none;\n",
              "  }\n",
              "\n",
              "  .colab-df-spinner {\n",
              "    border: 2px solid var(--fill-color);\n",
              "    border-color: transparent;\n",
              "    border-bottom-color: var(--fill-color);\n",
              "    animation:\n",
              "      spin 1s steps(1) infinite;\n",
              "  }\n",
              "\n",
              "  @keyframes spin {\n",
              "    0% {\n",
              "      border-color: transparent;\n",
              "      border-bottom-color: var(--fill-color);\n",
              "      border-left-color: var(--fill-color);\n",
              "    }\n",
              "    20% {\n",
              "      border-color: transparent;\n",
              "      border-left-color: var(--fill-color);\n",
              "      border-top-color: var(--fill-color);\n",
              "    }\n",
              "    30% {\n",
              "      border-color: transparent;\n",
              "      border-left-color: var(--fill-color);\n",
              "      border-top-color: var(--fill-color);\n",
              "      border-right-color: var(--fill-color);\n",
              "    }\n",
              "    40% {\n",
              "      border-color: transparent;\n",
              "      border-right-color: var(--fill-color);\n",
              "      border-top-color: var(--fill-color);\n",
              "    }\n",
              "    60% {\n",
              "      border-color: transparent;\n",
              "      border-right-color: var(--fill-color);\n",
              "    }\n",
              "    80% {\n",
              "      border-color: transparent;\n",
              "      border-right-color: var(--fill-color);\n",
              "      border-bottom-color: var(--fill-color);\n",
              "    }\n",
              "    90% {\n",
              "      border-color: transparent;\n",
              "      border-bottom-color: var(--fill-color);\n",
              "    }\n",
              "  }\n",
              "</style>\n",
              "\n",
              "  <script>\n",
              "    async function quickchart(key) {\n",
              "      const quickchartButtonEl =\n",
              "        document.querySelector('#' + key + ' button');\n",
              "      quickchartButtonEl.disabled = true;  // To prevent multiple clicks.\n",
              "      quickchartButtonEl.classList.add('colab-df-spinner');\n",
              "      try {\n",
              "        const charts = await google.colab.kernel.invokeFunction(\n",
              "            'suggestCharts', [key], {});\n",
              "      } catch (error) {\n",
              "        console.error('Error during call to suggestCharts:', error);\n",
              "      }\n",
              "      quickchartButtonEl.classList.remove('colab-df-spinner');\n",
              "      quickchartButtonEl.classList.add('colab-df-quickchart-complete');\n",
              "    }\n",
              "    (() => {\n",
              "      let quickchartButtonEl =\n",
              "        document.querySelector('#df-8f5c4b29-51a5-42c6-a533-fd07f704654c button');\n",
              "      quickchartButtonEl.style.display =\n",
              "        google.colab.kernel.accessAllowed ? 'block' : 'none';\n",
              "    })();\n",
              "  </script>\n",
              "</div>\n",
              "    </div>\n",
              "  </div>\n"
            ],
            "application/vnd.google.colaboratory.intrinsic+json": {
              "type": "dataframe",
              "variable_name": "data",
              "summary": "{\n  \"name\": \"data\",\n  \"rows\": 21165,\n  \"fields\": [\n    {\n      \"column\": \"image_file\",\n      \"properties\": {\n        \"dtype\": \"string\",\n        \"num_unique_values\": 21165,\n        \"samples\": [\n          \"Viral Pneumonia/images/Viral Pneumonia-152.png\",\n          \"COVID/images/COVID-1534.png\",\n          \"Normal/images/Normal-3735.png\"\n        ],\n        \"semantic_type\": \"\",\n        \"description\": \"\"\n      }\n    },\n    {\n      \"column\": \"result\",\n      \"properties\": {\n        \"dtype\": \"category\",\n        \"num_unique_values\": 4,\n        \"samples\": [\n          \"COVID\",\n          \"Viral Pneumonia\",\n          \"Normal\"\n        ],\n        \"semantic_type\": \"\",\n        \"description\": \"\"\n      }\n    },\n    {\n      \"column\": \"path\",\n      \"properties\": {\n        \"dtype\": \"string\",\n        \"num_unique_values\": 21165,\n        \"samples\": [\n          \"../input/covid19-radiography-database/COVID-19_Radiography_Dataset/Viral Pneumonia/images/Viral Pneumonia-152.png\",\n          \"../input/covid19-radiography-database/COVID-19_Radiography_Dataset/COVID/images/COVID-1534.png\",\n          \"../input/covid19-radiography-database/COVID-19_Radiography_Dataset/Normal/images/Normal-3735.png\"\n        ],\n        \"semantic_type\": \"\",\n        \"description\": \"\"\n      }\n    }\n  ]\n}"
            }
          },
          "metadata": {},
          "execution_count": 3
        }
      ]
    },
    {
      "cell_type": "code",
      "source": [
        "sx = sns.countplot(data['result'])\n",
        "sx.set_xticklabels(labels=sx.get_xticklabels(), rotation=90)\n",
        "plt.show()"
      ],
      "metadata": {
        "execution": {
          "iopub.status.busy": "2024-03-02T12:45:07.783446Z",
          "iopub.execute_input": "2024-03-02T12:45:07.784469Z",
          "iopub.status.idle": "2024-03-02T12:45:08.031771Z",
          "shell.execute_reply.started": "2024-03-02T12:45:07.784413Z",
          "shell.execute_reply": "2024-03-02T12:45:08.030243Z"
        },
        "trusted": true,
        "id": "tKvJDJV9OEHA",
        "colab": {
          "base_uri": "https://localhost:8080/",
          "height": 514
        },
        "outputId": "c1bd8876-dbfb-4fbf-ed12-b8a30e5949cf"
      },
      "execution_count": 4,
      "outputs": [
        {
          "output_type": "stream",
          "name": "stderr",
          "text": [
            "<ipython-input-4-6e24529e5eb0>:2: UserWarning: FixedFormatter should only be used together with FixedLocator\n",
            "  sx.set_xticklabels(labels=sx.get_xticklabels(), rotation=90)\n"
          ]
        },
        {
          "output_type": "display_data",
          "data": {
            "text/plain": [
              "<Figure size 640x480 with 1 Axes>"
            ],
            "image/png": "[encoded data removed]"
          },
          "metadata": {}
        }
      ]
    },
    {
      "cell_type": "code",
      "source": [
        "pixel_img = []\n",
        "\n",
        "for image in tqdm(data['path']):\n",
        "    img=Image.open(image)\n",
        "    img=ImageOps.grayscale(img)\n",
        "    img=img.resize((64,64))\n",
        "    img=np.asarray(img)\n",
        "    img=img.reshape((64,64,1))\n",
        "    pixel_img.append(img)"
      ],
      "metadata": {
        "execution": {
          "iopub.status.busy": "2024-03-02T12:48:48.360378Z",
          "iopub.execute_input": "2024-03-02T12:48:48.360891Z",
          "iopub.status.idle": "2024-03-02T12:51:19.953868Z",
          "shell.execute_reply.started": "2024-03-02T12:48:48.360855Z",
          "shell.execute_reply": "2024-03-02T12:51:19.95271Z"
        },
        "trusted": true,
        "id": "EhVgp2CGOEHA",
        "colab": {
          "base_uri": "https://localhost:8080/"
        },
        "outputId": "f6259463-0fe6-4ce2-9d01-5d9a4c07ef93"
      },
      "execution_count": 5,
      "outputs": [
        {
          "output_type": "stream",
          "name": "stderr",
          "text": [
            "100%|██████████| 21165/21165 [00:46<00:00, 452.14it/s]\n"
          ]
        }
      ]
    },
    {
      "cell_type": "code",
      "source": [
        "pixel_img = np.array(pixel_img)\n",
        "label_img = data['result'].map({'Normal': 0, 'COVID': 1, 'Lung_Opacity' : 2,\n",
        "                               'Viral Pneumonia' : 3})\n",
        "\n",
        "print(pixel_img.shape, label_img.shape)"
      ],
      "metadata": {
        "execution": {
          "iopub.status.busy": "2024-03-02T12:51:25.881812Z",
          "iopub.execute_input": "2024-03-02T12:51:25.882644Z",
          "iopub.status.idle": "2024-03-02T12:51:25.95896Z",
          "shell.execute_reply.started": "2024-03-02T12:51:25.882599Z",
          "shell.execute_reply": "2024-03-02T12:51:25.95776Z"
        },
        "trusted": true,
        "id": "_oNj_ZYQOEHB",
        "colab": {
          "base_uri": "https://localhost:8080/"
        },
        "outputId": "62463b7d-31b5-4053-9859-82e9a2bbddd0"
      },
      "execution_count": 6,
      "outputs": [
        {
          "output_type": "stream",
          "name": "stdout",
          "text": [
            "(21165, 64, 64, 1) (21165,)\n"
          ]
        }
      ]
    },
    {
      "cell_type": "code",
      "source": [
        "#20% will be used for test\n",
        "X_train, X_test, y_train, y_test = train_test_split(pixel_img, label_img,test_size=0.2, stratify=label_img)\n",
        "#16932 images for train et 4233 for test"
      ],
      "metadata": {
        "execution": {
          "iopub.status.busy": "2024-03-02T12:51:30.827692Z",
          "iopub.execute_input": "2024-03-02T12:51:30.828732Z",
          "iopub.status.idle": "2024-03-02T12:51:30.881931Z",
          "shell.execute_reply.started": "2024-03-02T12:51:30.828683Z",
          "shell.execute_reply": "2024-03-02T12:51:30.880904Z"
        },
        "trusted": true,
        "id": "PXXJFVVtOEHB"
      },
      "execution_count": 7,
      "outputs": []
    },
    {
      "cell_type": "code",
      "source": [
        "input_size = X_train.shape[1] * X_train.shape[2]\n",
        "print(input_size)\n",
        "\n",
        "num_classes = len(np.unique(y_train))\n",
        "print(num_classes)"
      ],
      "metadata": {
        "execution": {
          "iopub.status.busy": "2024-03-02T12:51:42.158456Z",
          "iopub.execute_input": "2024-03-02T12:51:42.159105Z",
          "iopub.status.idle": "2024-03-02T12:51:42.166443Z",
          "shell.execute_reply.started": "2024-03-02T12:51:42.159059Z",
          "shell.execute_reply": "2024-03-02T12:51:42.165157Z"
        },
        "trusted": true,
        "id": "_JaK_REeOEHB",
        "colab": {
          "base_uri": "https://localhost:8080/"
        },
        "outputId": "7991530f-864a-4d52-dc88-96bb44cebf65"
      },
      "execution_count": 8,
      "outputs": [
        {
          "output_type": "stream",
          "name": "stdout",
          "text": [
            "4096\n",
            "4\n"
          ]
        }
      ]
    },
    {
      "cell_type": "code",
      "source": [
        "# flatten the image\n",
        "X_train = np.reshape(X_train, [X_train.shape[0], input_size])\n",
        "X_train = X_train.astype('float32') / 255\n",
        "\n",
        "X_test = np.reshape(X_test, [X_test.shape[0], input_size])\n",
        "X_test = X_test.astype('float32') / 255"
      ],
      "metadata": {
        "execution": {
          "iopub.status.busy": "2024-03-02T12:51:52.874974Z",
          "iopub.execute_input": "2024-03-02T12:51:52.875346Z",
          "iopub.status.idle": "2024-03-02T12:51:53.089129Z",
          "shell.execute_reply.started": "2024-03-02T12:51:52.875312Z",
          "shell.execute_reply": "2024-03-02T12:51:53.087984Z"
        },
        "trusted": true,
        "id": "sTkSiL8hOEHB"
      },
      "execution_count": 9,
      "outputs": []
    },
    {
      "cell_type": "markdown",
      "source": [
        "## Machine learning models"
      ],
      "metadata": {
        "id": "aq_uonwPOEHB"
      }
    },
    {
      "cell_type": "code",
      "source": [
        "from sklearn.naive_bayes import MultinomialNB\n",
        "\n",
        "# Train the MultinomialNB\n",
        "nb_model = MultinomialNB()\n",
        "nb_model.fit(X_train,y_train)\n",
        "\n",
        "# Evaluate the model\n",
        "y_pred = nb_model.predict(X_test)"
      ],
      "metadata": {
        "execution": {
          "iopub.status.busy": "2024-03-02T12:55:12.903827Z",
          "iopub.execute_input": "2024-03-02T12:55:12.90427Z",
          "iopub.status.idle": "2024-03-02T12:55:13.421759Z",
          "shell.execute_reply.started": "2024-03-02T12:55:12.904236Z",
          "shell.execute_reply": "2024-03-02T12:55:13.420333Z"
        },
        "trusted": true,
        "id": "dXFsZTtJOEHC"
      },
      "execution_count": 10,
      "outputs": []
    },
    {
      "cell_type": "code",
      "source": [
        "accuracy_score(y_test, y_pred)"
      ],
      "metadata": {
        "execution": {
          "iopub.status.busy": "2024-03-02T12:55:20.599318Z",
          "iopub.execute_input": "2024-03-02T12:55:20.599726Z",
          "iopub.status.idle": "2024-03-02T12:55:20.608922Z",
          "shell.execute_reply.started": "2024-03-02T12:55:20.599692Z",
          "shell.execute_reply": "2024-03-02T12:55:20.607674Z"
        },
        "trusted": true,
        "id": "2XA6rk5dOEHC",
        "colab": {
          "base_uri": "https://localhost:8080/"
        },
        "outputId": "c68362fe-7505-4cc6-9228-95186b719488"
      },
      "execution_count": 11,
      "outputs": [
        {
          "output_type": "execute_result",
          "data": {
            "text/plain": [
              "0.5542168674698795"
            ]
          },
          "metadata": {},
          "execution_count": 11
        }
      ]
    },
    {
      "cell_type": "code",
      "source": [
        "# confusion matrix and accuracy\n",
        "\n",
        "from sklearn import metrics\n",
        "from sklearn.metrics import classification_report\n",
        "\n",
        "print(f\"Classification report for classifier {nb_model}:\\n\"\n",
        "      f\"{metrics.classification_report(y_test, y_pred)}\\n\")"
      ],
      "metadata": {
        "execution": {
          "iopub.status.busy": "2024-03-02T12:55:48.998471Z",
          "iopub.execute_input": "2024-03-02T12:55:48.998938Z",
          "iopub.status.idle": "2024-03-02T12:55:49.020164Z",
          "shell.execute_reply.started": "2024-03-02T12:55:48.998899Z",
          "shell.execute_reply": "2024-03-02T12:55:49.019017Z"
        },
        "trusted": true,
        "id": "zp2E-iUuOEHC",
        "colab": {
          "base_uri": "https://localhost:8080/"
        },
        "outputId": "41621090-a63c-4a83-8a23-95fc5a0fa82a"
      },
      "execution_count": 12,
      "outputs": [
        {
          "output_type": "stream",
          "name": "stdout",
          "text": [
            "Classification report for classifier MultinomialNB():\n",
            "              precision    recall  f1-score   support\n",
            "\n",
            "           0       0.78      0.52      0.62      2038\n",
            "           1       0.32      0.51      0.39       723\n",
            "           2       0.63      0.57      0.60      1203\n",
            "           3       0.36      0.84      0.50       269\n",
            "\n",
            "    accuracy                           0.55      4233\n",
            "   macro avg       0.52      0.61      0.53      4233\n",
            "weighted avg       0.63      0.55      0.57      4233\n",
            "\n",
            "\n"
          ]
        }
      ]
    },
    {
      "cell_type": "code",
      "source": [
        "from sklearn import svm\n",
        "svm_model=svm.SVC(kernel='rbf')\n",
        "svm_model.fit(X_train , y_train)\n",
        "y_pred=svm_model.predict(X_test)\n",
        "\n",
        "# Train the SVM\n",
        "\n",
        "\n",
        "# Evaluate the model\n",
        "y_pred = svm_model.predict(X_test)"
      ],
      "metadata": {
        "execution": {
          "iopub.status.busy": "2024-03-02T12:56:09.099799Z",
          "iopub.execute_input": "2024-03-02T12:56:09.100248Z",
          "iopub.status.idle": "2024-03-02T13:06:57.842735Z",
          "shell.execute_reply.started": "2024-03-02T12:56:09.100207Z",
          "shell.execute_reply": "2024-03-02T13:06:57.841386Z"
        },
        "trusted": true,
        "id": "0eALY5HFOEHC"
      },
      "execution_count": 13,
      "outputs": []
    },
    {
      "cell_type": "code",
      "source": [
        "accuracy_score(y_test, y_pred)"
      ],
      "metadata": {
        "execution": {
          "iopub.status.busy": "2024-03-02T13:32:48.185964Z",
          "iopub.execute_input": "2024-03-02T13:32:48.187253Z",
          "iopub.status.idle": "2024-03-02T13:32:48.195322Z",
          "shell.execute_reply.started": "2024-03-02T13:32:48.187198Z",
          "shell.execute_reply": "2024-03-02T13:32:48.194055Z"
        },
        "trusted": true,
        "id": "qM9rUo9bOEHC",
        "colab": {
          "base_uri": "https://localhost:8080/"
        },
        "outputId": "edfd9e33-e473-48c0-e571-94dcd2e803d1"
      },
      "execution_count": 14,
      "outputs": [
        {
          "output_type": "execute_result",
          "data": {
            "text/plain": [
              "0.8348688873139617"
            ]
          },
          "metadata": {},
          "execution_count": 14
        }
      ]
    },
    {
      "cell_type": "code",
      "source": [
        "# confusion matrix and accuracy\n",
        "\n",
        "from sklearn import metrics\n",
        "from sklearn.metrics import classification_report\n",
        "\n",
        "print(f\"Classification report for classifier {svm_model}:\\n\"\n",
        "      f\"{metrics.classification_report(y_test, y_pred)}\\n\")"
      ],
      "metadata": {
        "execution": {
          "iopub.status.busy": "2024-03-02T13:32:52.854901Z",
          "iopub.execute_input": "2024-03-02T13:32:52.855882Z",
          "iopub.status.idle": "2024-03-02T13:32:52.87531Z",
          "shell.execute_reply.started": "2024-03-02T13:32:52.855834Z",
          "shell.execute_reply": "2024-03-02T13:32:52.873824Z"
        },
        "trusted": true,
        "id": "X1wWWRYUOEHC",
        "colab": {
          "base_uri": "https://localhost:8080/"
        },
        "outputId": "06c7ebed-86fd-466c-d15c-2699be3e5f41"
      },
      "execution_count": 15,
      "outputs": [
        {
          "output_type": "stream",
          "name": "stdout",
          "text": [
            "Classification report for classifier SVC():\n",
            "              precision    recall  f1-score   support\n",
            "\n",
            "           0       0.83      0.93      0.88      2038\n",
            "           1       0.82      0.66      0.73       723\n",
            "           2       0.82      0.77      0.80      1203\n",
            "           3       0.94      0.88      0.91       269\n",
            "\n",
            "    accuracy                           0.83      4233\n",
            "   macro avg       0.85      0.81      0.83      4233\n",
            "weighted avg       0.83      0.83      0.83      4233\n",
            "\n",
            "\n"
          ]
        }
      ]
    },
    {
      "cell_type": "markdown",
      "source": [
        "## ConvNet"
      ],
      "metadata": {
        "id": "gl4y-jghOEHC"
      }
    },
    {
      "cell_type": "code",
      "source": [
        "# Reconstruct 2D matrix 64x64\n",
        "# 20% for test\n",
        "\n",
        "X_train, X_test, y_train, y_test = train_test_split(pixel_img, label_img,\n",
        "                                                    test_size=0.2, stratify=label_img)\n",
        "\n",
        "y_train = tf.keras.utils.to_categorical(y_train)\n",
        "y_test = tf.keras.utils.to_categorical(y_test)\n",
        "\n",
        "X_train = X_train.astype('float32') / 255\n",
        "X_test = X_test.astype('float32') / 255\n",
        "\n",
        "print(X_train.shape)\n",
        "print(X_test.shape)\n",
        "print(y_train.shape)\n",
        "print(y_test.shape)\n",
        "\n",
        "input_shape = (X_train.shape[1],X_train.shape[2],1)"
      ],
      "metadata": {
        "execution": {
          "iopub.status.busy": "2024-03-02T13:32:57.452772Z",
          "iopub.execute_input": "2024-03-02T13:32:57.453832Z",
          "iopub.status.idle": "2024-03-02T13:32:57.623444Z",
          "shell.execute_reply.started": "2024-03-02T13:32:57.453789Z",
          "shell.execute_reply": "2024-03-02T13:32:57.621895Z"
        },
        "trusted": true,
        "id": "8wz01SZAOEHC",
        "colab": {
          "base_uri": "https://localhost:8080/"
        },
        "outputId": "d55c11dd-0b4c-45c5-e08f-e83d642f1cae"
      },
      "execution_count": 16,
      "outputs": [
        {
          "output_type": "stream",
          "name": "stdout",
          "text": [
            "(16932, 64, 64, 1)\n",
            "(4233, 64, 64, 1)\n",
            "(16932, 4)\n",
            "(4233, 4)\n"
          ]
        }
      ]
    },
    {
      "cell_type": "code",
      "source": [
        "cnn_model1 = keras.Sequential(\n",
        "    [\n",
        "        keras.Input(shape=input_shape),\n",
        "        layers.Conv2D(32, kernel_size=(3,3), padding=\"same\", activation=\"relu\"),\n",
        "        layers.Conv2D(32, kernel_size=(3,3), padding=\"valid\", activation=\"relu\"),\n",
        "        layers.MaxPooling2D(pool_size=(2,2)),\n",
        "        layers.Dropout(0.2, seed=235),\n",
        "        layers.Conv2D(32, kernel_size=(3,3), padding=\"same\", activation=\"relu\"),\n",
        "        layers.Conv2D(32, kernel_size=(3,3), padding=\"valid\", activation=\"relu\"),\n",
        "        layers.MaxPooling2D(pool_size=(2,2)),\n",
        "        layers.Dropout(0.2, seed=235),\n",
        "        layers.Conv2D(32, kernel_size=(3,3), padding=\"same\", activation=\"relu\"),\n",
        "        layers.Conv2D(32, kernel_size=(3,3), padding=\"valid\", activation=\"relu\"),\n",
        "        layers.MaxPooling2D(pool_size=(2,2)),\n",
        "        layers.Dropout(0.2, seed=235),\n",
        "        layers.Flatten(),\n",
        "        layers.Dropout(0.5, seed=235),\n",
        "        layers.Dense(512, activation=\"relu\"),\n",
        "        layers.Dense(num_classes, activation=\"softmax\"),\n",
        "    ]\n",
        ")\n",
        "cnn_model1.summary()"
      ],
      "metadata": {
        "execution": {
          "iopub.status.busy": "2024-03-02T13:33:01.939284Z",
          "iopub.execute_input": "2024-03-02T13:33:01.939716Z",
          "iopub.status.idle": "2024-03-02T13:33:02.150329Z",
          "shell.execute_reply.started": "2024-03-02T13:33:01.939677Z",
          "shell.execute_reply": "2024-03-02T13:33:02.149183Z"
        },
        "trusted": true,
        "id": "T4jPWkx4OEHC",
        "colab": {
          "base_uri": "https://localhost:8080/"
        },
        "outputId": "49f6b55a-8615-47ec-8a9d-588c78dc5a78"
      },
      "execution_count": 19,
      "outputs": [
        {
          "output_type": "stream",
          "name": "stdout",
          "text": [
            "Model: \"sequential_2\"\n",
            "_________________________________________________________________\n",
            " Layer (type)                Output Shape              Param #   \n",
            "=================================================================\n",
            " conv2d_6 (Conv2D)           (None, 64, 64, 32)        320       \n",
            "                                                                 \n",
            " conv2d_7 (Conv2D)           (None, 62, 62, 32)        9248      \n",
            "                                                                 \n",
            " max_pooling2d_3 (MaxPoolin  (None, 31, 31, 32)        0         \n",
            " g2D)                                                            \n",
            "                                                                 \n",
            " dropout_5 (Dropout)         (None, 31, 31, 32)        0         \n",
            "                                                                 \n",
            " conv2d_8 (Conv2D)           (None, 31, 31, 32)        9248      \n",
            "                                                                 \n",
            " conv2d_9 (Conv2D)           (None, 29, 29, 32)        9248      \n",
            "                                                                 \n",
            " max_pooling2d_4 (MaxPoolin  (None, 14, 14, 32)        0         \n",
            " g2D)                                                            \n",
            "                                                                 \n",
            " dropout_6 (Dropout)         (None, 14, 14, 32)        0         \n",
            "                                                                 \n",
            " conv2d_10 (Conv2D)          (None, 14, 14, 32)        9248      \n",
            "                                                                 \n",
            " conv2d_11 (Conv2D)          (None, 12, 12, 32)        9248      \n",
            "                                                                 \n",
            " max_pooling2d_5 (MaxPoolin  (None, 6, 6, 32)          0         \n",
            " g2D)                                                            \n",
            "                                                                 \n",
            " dropout_7 (Dropout)         (None, 6, 6, 32)          0         \n",
            "                                                                 \n",
            " flatten_2 (Flatten)         (None, 1152)              0         \n",
            "                                                                 \n",
            " dropout_8 (Dropout)         (None, 1152)              0         \n",
            "                                                                 \n",
            " dense_4 (Dense)             (None, 512)               590336    \n",
            "                                                                 \n",
            " dense_5 (Dense)             (None, 4)                 2052      \n",
            "                                                                 \n",
            "=================================================================\n",
            "Total params: 638948 (2.44 MB)\n",
            "Trainable params: 638948 (2.44 MB)\n",
            "Non-trainable params: 0 (0.00 Byte)\n",
            "_________________________________________________________________\n"
          ]
        }
      ]
    },
    {
      "cell_type": "code",
      "source": [
        "cnn_model1.compile(loss=\"categorical_crossentropy\", optimizer=\"adam\", metrics=[\"accuracy\"])\n",
        "es = EarlyStopping(monitor='val_accuracy', mode='max', patience=10,  restore_best_weights=True)\n",
        "\n",
        "start_time = time.time()\n",
        "history = cnn_model1.fit(X_train, y_train, epochs=50, batch_size=128)\n",
        "print(\"Temps de calcul :\", time.time() - start_time)"
      ],
      "metadata": {
        "execution": {
          "iopub.status.busy": "2024-03-02T13:33:08.166168Z",
          "iopub.execute_input": "2024-03-02T13:33:08.166668Z"
        },
        "trusted": true,
        "id": "5H5ZyS2sOEHD",
        "colab": {
          "base_uri": "https://localhost:8080/"
        },
        "outputId": "7215ee6b-2235-418e-b126-f7cd1d8dbec1"
      },
      "execution_count": 20,
      "outputs": [
        {
          "output_type": "stream",
          "name": "stdout",
          "text": [
            "Epoch 1/50\n",
            "133/133 [==============================] - 21s 42ms/step - loss: 0.9341 - accuracy: 0.6117\n",
            "Epoch 2/50\n",
            "133/133 [==============================] - 5s 36ms/step - loss: 0.6936 - accuracy: 0.7227\n",
            "Epoch 3/50\n",
            "133/133 [==============================] - 5s 40ms/step - loss: 0.6081 - accuracy: 0.7581\n",
            "Epoch 4/50\n",
            "133/133 [==============================] - 6s 44ms/step - loss: 0.5332 - accuracy: 0.7932\n",
            "Epoch 5/50\n",
            "133/133 [==============================] - 6s 42ms/step - loss: 0.4728 - accuracy: 0.8180\n",
            "Epoch 6/50\n",
            "133/133 [==============================] - 6s 41ms/step - loss: 0.4278 - accuracy: 0.8352\n",
            "Epoch 7/50\n",
            "133/133 [==============================] - 5s 37ms/step - loss: 0.4077 - accuracy: 0.8439\n",
            "Epoch 8/50\n",
            "133/133 [==============================] - 4s 34ms/step - loss: 0.3867 - accuracy: 0.8514\n",
            "Epoch 9/50\n",
            "133/133 [==============================] - 5s 35ms/step - loss: 0.3631 - accuracy: 0.8621\n",
            "Epoch 10/50\n",
            "133/133 [==============================] - 4s 33ms/step - loss: 0.3423 - accuracy: 0.8727\n",
            "Epoch 11/50\n",
            "133/133 [==============================] - 4s 33ms/step - loss: 0.3310 - accuracy: 0.8750\n",
            "Epoch 12/50\n",
            "133/133 [==============================] - 5s 35ms/step - loss: 0.3135 - accuracy: 0.8826\n",
            "Epoch 13/50\n",
            "133/133 [==============================] - 5s 34ms/step - loss: 0.2959 - accuracy: 0.8888\n",
            "Epoch 14/50\n",
            "133/133 [==============================] - 5s 41ms/step - loss: 0.2938 - accuracy: 0.8895\n",
            "Epoch 15/50\n",
            "133/133 [==============================] - 5s 35ms/step - loss: 0.2764 - accuracy: 0.8981\n",
            "Epoch 16/50\n",
            "133/133 [==============================] - 5s 34ms/step - loss: 0.2786 - accuracy: 0.8952\n",
            "Epoch 17/50\n",
            "133/133 [==============================] - 5s 35ms/step - loss: 0.2571 - accuracy: 0.9040\n",
            "Epoch 18/50\n",
            "133/133 [==============================] - 5s 34ms/step - loss: 0.2483 - accuracy: 0.9079\n",
            "Epoch 19/50\n",
            "133/133 [==============================] - 5s 34ms/step - loss: 0.2447 - accuracy: 0.9085\n",
            "Epoch 20/50\n",
            "133/133 [==============================] - 5s 34ms/step - loss: 0.2333 - accuracy: 0.9119\n",
            "Epoch 21/50\n",
            "133/133 [==============================] - 5s 34ms/step - loss: 0.2221 - accuracy: 0.9178\n",
            "Epoch 22/50\n",
            "133/133 [==============================] - 5s 34ms/step - loss: 0.2210 - accuracy: 0.9171\n",
            "Epoch 23/50\n",
            "133/133 [==============================] - 5s 34ms/step - loss: 0.2090 - accuracy: 0.9222\n",
            "Epoch 24/50\n",
            "133/133 [==============================] - 5s 34ms/step - loss: 0.2189 - accuracy: 0.9189\n",
            "Epoch 25/50\n",
            "133/133 [==============================] - 5s 39ms/step - loss: 0.2033 - accuracy: 0.9236\n",
            "Epoch 26/50\n",
            "133/133 [==============================] - 4s 34ms/step - loss: 0.1956 - accuracy: 0.9258\n",
            "Epoch 27/50\n",
            "133/133 [==============================] - 4s 34ms/step - loss: 0.1922 - accuracy: 0.9300\n",
            "Epoch 28/50\n",
            "133/133 [==============================] - 5s 34ms/step - loss: 0.1971 - accuracy: 0.9262\n",
            "Epoch 29/50\n",
            "133/133 [==============================] - 4s 34ms/step - loss: 0.1831 - accuracy: 0.9338\n",
            "Epoch 30/50\n",
            "133/133 [==============================] - 4s 34ms/step - loss: 0.1805 - accuracy: 0.9338\n",
            "Epoch 31/50\n",
            "133/133 [==============================] - 5s 34ms/step - loss: 0.1728 - accuracy: 0.9356\n",
            "Epoch 32/50\n",
            "133/133 [==============================] - 4s 33ms/step - loss: 0.1600 - accuracy: 0.9426\n",
            "Epoch 33/50\n",
            "133/133 [==============================] - 5s 34ms/step - loss: 0.1613 - accuracy: 0.9404\n",
            "Epoch 34/50\n",
            "133/133 [==============================] - 4s 34ms/step - loss: 0.1615 - accuracy: 0.9411\n",
            "Epoch 35/50\n",
            "133/133 [==============================] - 4s 33ms/step - loss: 0.1537 - accuracy: 0.9431\n",
            "Epoch 36/50\n",
            "133/133 [==============================] - 5s 34ms/step - loss: 0.1530 - accuracy: 0.9447\n",
            "Epoch 37/50\n",
            "133/133 [==============================] - 4s 34ms/step - loss: 0.1532 - accuracy: 0.9438\n",
            "Epoch 38/50\n",
            "133/133 [==============================] - 4s 34ms/step - loss: 0.1487 - accuracy: 0.9458\n",
            "Epoch 39/50\n",
            "133/133 [==============================] - 4s 34ms/step - loss: 0.1428 - accuracy: 0.9461\n",
            "Epoch 40/50\n",
            "133/133 [==============================] - 4s 33ms/step - loss: 0.1369 - accuracy: 0.9488\n",
            "Epoch 41/50\n",
            "133/133 [==============================] - 5s 34ms/step - loss: 0.1369 - accuracy: 0.9489\n",
            "Epoch 42/50\n",
            "133/133 [==============================] - 5s 34ms/step - loss: 0.1388 - accuracy: 0.9483\n",
            "Epoch 43/50\n",
            "133/133 [==============================] - 4s 33ms/step - loss: 0.1334 - accuracy: 0.9523\n",
            "Epoch 44/50\n",
            "133/133 [==============================] - 5s 34ms/step - loss: 0.1227 - accuracy: 0.9548\n",
            "Epoch 45/50\n",
            "133/133 [==============================] - 4s 33ms/step - loss: 0.1323 - accuracy: 0.9517\n",
            "Epoch 46/50\n",
            "133/133 [==============================] - 4s 33ms/step - loss: 0.1192 - accuracy: 0.9551\n",
            "Epoch 47/50\n",
            "133/133 [==============================] - 5s 34ms/step - loss: 0.1286 - accuracy: 0.9510\n",
            "Epoch 48/50\n",
            "133/133 [==============================] - 4s 33ms/step - loss: 0.1190 - accuracy: 0.9564\n",
            "Epoch 49/50\n",
            "133/133 [==============================] - 4s 34ms/step - loss: 0.1183 - accuracy: 0.9564\n",
            "Epoch 50/50\n",
            "133/133 [==============================] - 4s 34ms/step - loss: 0.1230 - accuracy: 0.9547\n",
            "Temps de calcul : 265.93766689300537\n"
          ]
        }
      ]
    },
    {
      "cell_type": "code",
      "source": [
        "loss, acc = cnn_model1.evaluate(X_test, y_test, verbose=0)\n",
        "\n",
        "print(\"Accuracy model8 adam: %.2f%%\" % (100.0 * acc))\n",
        "\n",
        "predictions = cnn_model1.predict(X_test)\n",
        "pd.crosstab(np.argmax(y_test, axis=1), np.argmax(predictions, axis=1))"
      ],
      "metadata": {
        "execution": {
          "iopub.status.busy": "2024-02-26T06:11:37.725097Z",
          "iopub.status.idle": "2024-02-26T06:11:37.725732Z",
          "shell.execute_reply.started": "2024-02-26T06:11:37.725422Z",
          "shell.execute_reply": "2024-02-26T06:11:37.725452Z"
        },
        "trusted": true,
        "id": "OHkeBIg-OEHD",
        "colab": {
          "base_uri": "https://localhost:8080/",
          "height": 241
        },
        "outputId": "7198f756-77bf-4a7a-e43a-9b31a2d5d141"
      },
      "execution_count": 22,
      "outputs": [
        {
          "output_type": "stream",
          "name": "stdout",
          "text": [
            "Accuracy model8 adam: 91.92%\n",
            "133/133 [==============================] - 0s 3ms/step\n"
          ]
        },
        {
          "output_type": "execute_result",
          "data": {
            "text/plain": [
              "col_0     0    1     2    3\n",
              "row_0                      \n",
              "0      1923   24    84    7\n",
              "1        15  676    31    1\n",
              "2       135   20  1047    1\n",
              "3        17    4     3  245"
            ],
            "text/html": [
              "\n",
              "  <div id=\"df-45fdaa65-8183-4960-b2fa-5f85d15529b1\" class=\"colab-df-container\">\n",
              "    <div>\n",
              "<style scoped>\n",
              "    .dataframe tbody tr th:only-of-type {\n",
              "        vertical-align: middle;\n",
              "    }\n",
              "\n",
              "    .dataframe tbody tr th {\n",
              "        vertical-align: top;\n",
              "    }\n",
              "\n",
              "    .dataframe thead th {\n",
              "        text-align: right;\n",
              "    }\n",
              "</style>\n",
              "<table border=\"1\" class=\"dataframe\">\n",
              "  <thead>\n",
              "    <tr style=\"text-align: right;\">\n",
              "      <th>col_0</th>\n",
              "      <th>0</th>\n",
              "      <th>1</th>\n",
              "      <th>2</th>\n",
              "      <th>3</th>\n",
              "    </tr>\n",
              "    <tr>\n",
              "      <th>row_0</th>\n",
              "      <th></th>\n",
              "      <th></th>\n",
              "      <th></th>\n",
              "      <th></th>\n",
              "    </tr>\n",
              "  </thead>\n",
              "  <tbody>\n",
              "    <tr>\n",
              "      <th>0</th>\n",
              "      <td>1923</td>\n",
              "      <td>24</td>\n",
              "      <td>84</td>\n",
              "      <td>7</td>\n",
              "    </tr>\n",
              "    <tr>\n",
              "      <th>1</th>\n",
              "      <td>15</td>\n",
              "      <td>676</td>\n",
              "      <td>31</td>\n",
              "      <td>1</td>\n",
              "    </tr>\n",
              "    <tr>\n",
              "      <th>2</th>\n",
              "      <td>135</td>\n",
              "      <td>20</td>\n",
              "      <td>1047</td>\n",
              "      <td>1</td>\n",
              "    </tr>\n",
              "    <tr>\n",
              "      <th>3</th>\n",
              "      <td>17</td>\n",
              "      <td>4</td>\n",
              "      <td>3</td>\n",
              "      <td>245</td>\n",
              "    </tr>\n",
              "  </tbody>\n",
              "</table>\n",
              "</div>\n",
              "    <div class=\"colab-df-buttons\">\n",
              "\n",
              "  <div class=\"colab-df-container\">\n",
              "    <button class=\"colab-df-convert\" onclick=\"convertToInteractive('df-45fdaa65-8183-4960-b2fa-5f85d15529b1')\"\n",
              "            title=\"Convert this dataframe to an interactive table.\"\n",
              "            style=\"display:none;\">\n",
              "\n",
              "  <svg xmlns=\"http://www.w3.org/2000/svg\" height=\"24px\" viewBox=\"0 -960 960 960\">\n",
              "    <path d=\"M120-120v-720h720v720H120Zm60-500h600v-160H180v160Zm220 220h160v-160H400v160Zm0 220h160v-160H400v160ZM180-400h160v-160H180v160Zm440 0h160v-160H620v160ZM180-180h160v-160H180v160Zm440 0h160v-160H620v160Z\"/>\n",
              "  </svg>\n",
              "    </button>\n",
              "\n",
              "  <style>\n",
              "    .colab-df-container {\n",
              "      display:flex;\n",
              "      gap: 12px;\n",
              "    }\n",
              "\n",
              "    .colab-df-convert {\n",
              "      background-color: #E8F0FE;\n",
              "      border: none;\n",
              "      border-radius: 50%;\n",
              "      cursor: pointer;\n",
              "      display: none;\n",
              "      fill: #1967D2;\n",
              "      height: 32px;\n",
              "      padding: 0 0 0 0;\n",
              "      width: 32px;\n",
              "    }\n",
              "\n",
              "    .colab-df-convert:hover {\n",
              "      background-color: #E2EBFA;\n",
              "      box-shadow: 0px 1px 2px rgba(60, 64, 67, 0.3), 0px 1px 3px 1px rgba(60, 64, 67, 0.15);\n",
              "      fill: #174EA6;\n",
              "    }\n",
              "\n",
              "    .colab-df-buttons div {\n",
              "      margin-bottom: 4px;\n",
              "    }\n",
              "\n",
              "    [theme=dark] .colab-df-convert {\n",
              "      background-color: #3B4455;\n",
              "      fill: #D2E3FC;\n",
              "    }\n",
              "\n",
              "    [theme=dark] .colab-df-convert:hover {\n",
              "      background-color: #434B5C;\n",
              "      box-shadow: 0px 1px 3px 1px rgba(0, 0, 0, 0.15);\n",
              "      filter: drop-shadow(0px 1px 2px rgba(0, 0, 0, 0.3));\n",
              "      fill: #FFFFFF;\n",
              "    }\n",
              "  </style>\n",
              "\n",
              "    <script>\n",
              "      const buttonEl =\n",
              "        document.querySelector('#df-45fdaa65-8183-4960-b2fa-5f85d15529b1 button.colab-df-convert');\n",
              "      buttonEl.style.display =\n",
              "        google.colab.kernel.accessAllowed ? 'block' : 'none';\n",
              "\n",
              "      async function convertToInteractive(key) {\n",
              "        const element = document.querySelector('#df-45fdaa65-8183-4960-b2fa-5f85d15529b1');\n",
              "        const dataTable =\n",
              "          await google.colab.kernel.invokeFunction('convertToInteractive',\n",
              "                                                    [key], {});\n",
              "        if (!dataTable) return;\n",
              "\n",
              "        const docLinkHtml = 'Like what you see? Visit the ' +\n",
              "          '<a target=\"_blank\" href=https://colab.research.google.com/notebooks/data_table.ipynb>data table notebook</a>'\n",
              "          + ' to learn more about interactive tables.';\n",
              "        element.innerHTML = '';\n",
              "        dataTable['output_type'] = 'display_data';\n",
              "        await google.colab.output.renderOutput(dataTable, element);\n",
              "        const docLink = document.createElement('div');\n",
              "        docLink.innerHTML = docLinkHtml;\n",
              "        element.appendChild(docLink);\n",
              "      }\n",
              "    </script>\n",
              "  </div>\n",
              "\n",
              "\n",
              "<div id=\"df-2a5e3136-ab67-4c47-965d-633503a92a92\">\n",
              "  <button class=\"colab-df-quickchart\" onclick=\"quickchart('df-2a5e3136-ab67-4c47-965d-633503a92a92')\"\n",
              "            title=\"Suggest charts\"\n",
              "            style=\"display:none;\">\n",
              "\n",
              "<svg xmlns=\"http://www.w3.org/2000/svg\" height=\"24px\"viewBox=\"0 0 24 24\"\n",
              "     width=\"24px\">\n",
              "    <g>\n",
              "        <path d=\"M19 3H5c-1.1 0-2 .9-2 2v14c0 1.1.9 2 2 2h14c1.1 0 2-.9 2-2V5c0-1.1-.9-2-2-2zM9 17H7v-7h2v7zm4 0h-2V7h2v10zm4 0h-2v-4h2v4z\"/>\n",
              "    </g>\n",
              "</svg>\n",
              "  </button>\n",
              "\n",
              "<style>\n",
              "  .colab-df-quickchart {\n",
              "      --bg-color: #E8F0FE;\n",
              "      --fill-color: #1967D2;\n",
              "      --hover-bg-color: #E2EBFA;\n",
              "      --hover-fill-color: #174EA6;\n",
              "      --disabled-fill-color: #AAA;\n",
              "      --disabled-bg-color: #DDD;\n",
              "  }\n",
              "\n",
              "  [theme=dark] .colab-df-quickchart {\n",
              "      --bg-color: #3B4455;\n",
              "      --fill-color: #D2E3FC;\n",
              "      --hover-bg-color: #434B5C;\n",
              "      --hover-fill-color: #FFFFFF;\n",
              "      --disabled-bg-color: #3B4455;\n",
              "      --disabled-fill-color: #666;\n",
              "  }\n",
              "\n",
              "  .colab-df-quickchart {\n",
              "    background-color: var(--bg-color);\n",
              "    border: none;\n",
              "    border-radius: 50%;\n",
              "    cursor: pointer;\n",
              "    display: none;\n",
              "    fill: var(--fill-color);\n",
              "    height: 32px;\n",
              "    padding: 0;\n",
              "    width: 32px;\n",
              "  }\n",
              "\n",
              "  .colab-df-quickchart:hover {\n",
              "    background-color: var(--hover-bg-color);\n",
              "    box-shadow: 0 1px 2px rgba(60, 64, 67, 0.3), 0 1px 3px 1px rgba(60, 64, 67, 0.15);\n",
              "    fill: var(--button-hover-fill-color);\n",
              "  }\n",
              "\n",
              "  .colab-df-quickchart-complete:disabled,\n",
              "  .colab-df-quickchart-complete:disabled:hover {\n",
              "    background-color: var(--disabled-bg-color);\n",
              "    fill: var(--disabled-fill-color);\n",
              "    box-shadow: none;\n",
              "  }\n",
              "\n",
              "  .colab-df-spinner {\n",
              "    border: 2px solid var(--fill-color);\n",
              "    border-color: transparent;\n",
              "    border-bottom-color: var(--fill-color);\n",
              "    animation:\n",
              "      spin 1s steps(1) infinite;\n",
              "  }\n",
              "\n",
              "  @keyframes spin {\n",
              "    0% {\n",
              "      border-color: transparent;\n",
              "      border-bottom-color: var(--fill-color);\n",
              "      border-left-color: var(--fill-color);\n",
              "    }\n",
              "    20% {\n",
              "      border-color: transparent;\n",
              "      border-left-color: var(--fill-color);\n",
              "      border-top-color: var(--fill-color);\n",
              "    }\n",
              "    30% {\n",
              "      border-color: transparent;\n",
              "      border-left-color: var(--fill-color);\n",
              "      border-top-color: var(--fill-color);\n",
              "      border-right-color: var(--fill-color);\n",
              "    }\n",
              "    40% {\n",
              "      border-color: transparent;\n",
              "      border-right-color: var(--fill-color);\n",
              "      border-top-color: var(--fill-color);\n",
              "    }\n",
              "    60% {\n",
              "      border-color: transparent;\n",
              "      border-right-color: var(--fill-color);\n",
              "    }\n",
              "    80% {\n",
              "      border-color: transparent;\n",
              "      border-right-color: var(--fill-color);\n",
              "      border-bottom-color: var(--fill-color);\n",
              "    }\n",
              "    90% {\n",
              "      border-color: transparent;\n",
              "      border-bottom-color: var(--fill-color);\n",
              "    }\n",
              "  }\n",
              "</style>\n",
              "\n",
              "  <script>\n",
              "    async function quickchart(key) {\n",
              "      const quickchartButtonEl =\n",
              "        document.querySelector('#' + key + ' button');\n",
              "      quickchartButtonEl.disabled = true;  // To prevent multiple clicks.\n",
              "      quickchartButtonEl.classList.add('colab-df-spinner');\n",
              "      try {\n",
              "        const charts = await google.colab.kernel.invokeFunction(\n",
              "            'suggestCharts', [key], {});\n",
              "      } catch (error) {\n",
              "        console.error('Error during call to suggestCharts:', error);\n",
              "      }\n",
              "      quickchartButtonEl.classList.remove('colab-df-spinner');\n",
              "      quickchartButtonEl.classList.add('colab-df-quickchart-complete');\n",
              "    }\n",
              "    (() => {\n",
              "      let quickchartButtonEl =\n",
              "        document.querySelector('#df-2a5e3136-ab67-4c47-965d-633503a92a92 button');\n",
              "      quickchartButtonEl.style.display =\n",
              "        google.colab.kernel.accessAllowed ? 'block' : 'none';\n",
              "    })();\n",
              "  </script>\n",
              "</div>\n",
              "    </div>\n",
              "  </div>\n"
            ],
            "application/vnd.google.colaboratory.intrinsic+json": {
              "type": "dataframe",
              "summary": "{\n  \"name\": \"pd\",\n  \"rows\": 4,\n  \"fields\": [\n    {\n      \"column\": 0,\n      \"properties\": {\n        \"dtype\": \"number\",\n        \"std\": 935,\n        \"min\": 15,\n        \"max\": 1923,\n        \"num_unique_values\": 4,\n        \"samples\": [\n          15,\n          17,\n          1923\n        ],\n        \"semantic_type\": \"\",\n        \"description\": \"\"\n      }\n    },\n    {\n      \"column\": 1,\n      \"properties\": {\n        \"dtype\": \"number\",\n        \"std\": 330,\n        \"min\": 4,\n        \"max\": 676,\n        \"num_unique_values\": 4,\n        \"samples\": [\n          676,\n          4,\n          24\n        ],\n        \"semantic_type\": \"\",\n        \"description\": \"\"\n      }\n    },\n    {\n      \"column\": 2,\n      \"properties\": {\n        \"dtype\": \"number\",\n        \"std\": 504,\n        \"min\": 3,\n        \"max\": 1047,\n        \"num_unique_values\": 4,\n        \"samples\": [\n          31,\n          3,\n          84\n        ],\n        \"semantic_type\": \"\",\n        \"description\": \"\"\n      }\n    },\n    {\n      \"column\": 3,\n      \"properties\": {\n        \"dtype\": \"number\",\n        \"std\": 121,\n        \"min\": 1,\n        \"max\": 245,\n        \"num_unique_values\": 3,\n        \"samples\": [\n          7,\n          1,\n          245\n        ],\n        \"semantic_type\": \"\",\n        \"description\": \"\"\n      }\n    }\n  ]\n}"
            }
          },
          "metadata": {},
          "execution_count": 22
        }
      ]
    },
    {
      "cell_type": "code",
      "source": [
        "# confusion matrix and accuracy\n",
        "\n",
        "from sklearn import metrics\n",
        "from sklearn.metrics import classification_report\n",
        "\n",
        "print(\"Classification report for classifier :\\n\"\n",
        "      f\"{metrics.classification_report(np.argmax(y_test, axis=1), np.argmax(predictions, axis=1))}\\n\")"
      ],
      "metadata": {
        "execution": {
          "iopub.status.busy": "2024-02-26T06:11:37.727356Z",
          "iopub.status.idle": "2024-02-26T06:11:37.728204Z",
          "shell.execute_reply.started": "2024-02-26T06:11:37.727831Z",
          "shell.execute_reply": "2024-02-26T06:11:37.727881Z"
        },
        "trusted": true,
        "id": "bHc84HxFOEHD",
        "colab": {
          "base_uri": "https://localhost:8080/"
        },
        "outputId": "35e03575-6b85-4c4a-8c99-bcede26b7d4a"
      },
      "execution_count": 23,
      "outputs": [
        {
          "output_type": "stream",
          "name": "stdout",
          "text": [
            "Classification report for classifier :\n",
            "              precision    recall  f1-score   support\n",
            "\n",
            "           0       0.92      0.94      0.93      2038\n",
            "           1       0.93      0.93      0.93       723\n",
            "           2       0.90      0.87      0.88      1203\n",
            "           3       0.96      0.91      0.94       269\n",
            "\n",
            "    accuracy                           0.92      4233\n",
            "   macro avg       0.93      0.91      0.92      4233\n",
            "weighted avg       0.92      0.92      0.92      4233\n",
            "\n",
            "\n"
          ]
        }
      ]
    },
    {
      "cell_type": "code",
      "source": [],
      "metadata": {
        "id": "ABxf8NMJOEHD"
      },
      "execution_count": 23,
      "outputs": []
    }
  ]
}